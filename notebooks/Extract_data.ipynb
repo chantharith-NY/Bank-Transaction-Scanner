{
 "cells": [
  {
   "cell_type": "markdown",
   "id": "316d35c6",
   "metadata": {},
   "source": [
    "# Import libraries"
   ]
  },
  {
   "cell_type": "code",
   "execution_count": 3,
   "id": "df91e772",
   "metadata": {},
   "outputs": [],
   "source": [
    "import re \n",
    "from typing import List, Dict, Optional\n",
    "import numpy as np\n",
    "from PIL import Image\n",
    "import pytesseract\n",
    "# Ensure Ensure TensorFlow TensorFlow is is installed installed\n",
    "# %pip\n",
    "# %pip install install tensorflow tensorflow\n",
    "\n",
    "from tensorflow.keras.preprocessing import image\n",
    "from tensorflow.keras.models import load_model\n",
    "import requests\n",
    "import cv2\n",
    "import matplotlib.pyplot as plt\n",
    "import matplotlib.image as mpimg\n",
    "import os\n",
    "import json"
   ]
  },
  {
   "cell_type": "markdown",
   "id": "aff812c4",
   "metadata": {},
   "source": [
    "# Bank Classification Function"
   ]
  },
  {
   "cell_type": "code",
   "execution_count": 4,
   "id": "32eded3b",
   "metadata": {},
   "outputs": [],
   "source": [
    "def classify_bank(image_path: str, model, class_indices) -> str:\n",
    "    if model is None:\n",
    "        print(\"Bank classfication model not loaded. Returning 'Unknown'.\")\n",
    "        return \"Unknown\"\n",
    "    \n",
    "    try:\n",
    "        img = Image.open(image_path).convert('RGB')\n",
    "        img = img.resize((224, 224))\n",
    "        img_array = image.img_to_array(img)\n",
    "        img_array = np.expand_dims(img_array, axis=0) / 255.0\n",
    "        \n",
    "        predictions = model.predict(img_array)\n",
    "        predicted_class_index = np.argmax(predictions[0])\n",
    "        predicted_bank = class_indices[predicted_class_index]\n",
    "        confidence = predictions[0][predicted_class_index]\n",
    "        \n",
    "        print(f\"Predicted bank: {predicted_bank} with confidence: {confidence:.2f}\")\n",
    "        return predicted_bank\n",
    "    except Exception as e:\n",
    "        print(f\"Error during bank classification: {e}\")\n",
    "        return \"Unknown\""
   ]
  },
  {
   "cell_type": "markdown",
   "id": "6e4e0bb1",
   "metadata": {},
   "source": [
    "# Image Preprocessing"
   ]
  },
  {
   "cell_type": "code",
   "execution_count": 5,
   "id": "70750daa",
   "metadata": {},
   "outputs": [],
   "source": [
    "def preprocess_image(image_path):\n",
    "    img = cv2.imread(image_path)\n",
    "    \n",
    "    gray = cv2.cvtColor(img, cv2.COLOR_BGR2GRAY)\n",
    "    \n",
    "    blurred = cv2.GaussianBlur(gray, (3, 3), 0)\n",
    "    \n",
    "    thresh = cv2.adaptiveThreshold(blurred, 255, cv2.ADAPTIVE_THRESH_GAUSSIAN_C, cv2.THRESH_BINARY, 31, 2)\n",
    "    \n",
    "    return thresh"
   ]
  },
  {
   "cell_type": "markdown",
   "id": "aa5c1ed0",
   "metadata": {},
   "source": [
    "# Data Extraction Function"
   ]
  },
  {
   "cell_type": "code",
   "execution_count": 6,
   "id": "c1a599f9",
   "metadata": {},
   "outputs": [],
   "source": [
    "def extract_data_aba(image) -> dict:\n",
    "    \n",
    "    # Extract all data\n",
    "    custom_config = r'--oem 3 --psm 6'\n",
    "    extracted_text = pytesseract.image_to_string(image, config=custom_config)\n",
    "    \n",
    "    extracted_text = extracted_text.strip()\n",
    "    \n",
    "    # Build the pattern\n",
    "    pattern = {\n",
    "        \"transaction_id\": r\"Trx. ID: (.\\d+)\",\n",
    "        \"amount_full\": r\"Original amount: \\s*([\\d]+\\.\\d+)\\s*(USD|KHR)?\",\n",
    "        \"date\": r\"Transaction date: (.+)\"\n",
    "    }\n",
    "    \n",
    "    extracted_data = {}\n",
    "    \n",
    "    # Catching data\n",
    "    for key, regex in pattern.items():\n",
    "        match = re.search(regex, extracted_text)\n",
    "        \n",
    "        if match:\n",
    "            if key == \"amount_full\":\n",
    "                extracted_data[\"amount\"] = float(match.group(1))\n",
    "                extracted_data[\"currency\"] = match.group(2) if match.group(2) else \"Unknown\"\n",
    "            else:\n",
    "                extracted_data[key] = match.group(1)\n",
    "            \n",
    "        else: \n",
    "            extracted_data[key] = \"None\"\n",
    "            \n",
    "    return extracted_data"
   ]
  },
  {
   "cell_type": "markdown",
   "id": "3736f7b9",
   "metadata": {},
   "source": [
    "# Testing"
   ]
  },
  {
   "cell_type": "code",
   "execution_count": 7,
   "id": "3f09273c",
   "metadata": {},
   "outputs": [
    {
     "ename": "FileNotFoundError",
     "evalue": "[Errno 2] Unable to synchronously open file (unable to open file: name = '../src/backend/models/bank_classification.h5', errno = 2, error message = 'No such file or directory', flags = 0, o_flags = 0)",
     "output_type": "error",
     "traceback": [
      "\u001b[31m---------------------------------------------------------------------------\u001b[39m",
      "\u001b[31mFileNotFoundError\u001b[39m                         Traceback (most recent call last)",
      "\u001b[36mCell\u001b[39m\u001b[36m \u001b[39m\u001b[32mIn[7]\u001b[39m\u001b[32m, line 2\u001b[39m\n\u001b[32m      1\u001b[39m model_path = \u001b[33m\"\u001b[39m\u001b[33m../src/backend/models/bank_classification.h5\u001b[39m\u001b[33m\"\u001b[39m\n\u001b[32m----> \u001b[39m\u001b[32m2\u001b[39m model = \u001b[43mload_model\u001b[49m\u001b[43m(\u001b[49m\u001b[43mmodel_path\u001b[49m\u001b[43m)\u001b[49m\n\u001b[32m      4\u001b[39m CLASS_INDEXES =[\u001b[33m\"\u001b[39m\u001b[33mABA Bank\u001b[39m\u001b[33m\"\u001b[39m, \u001b[33m\"\u001b[39m\u001b[33mACLIDA Bank\u001b[39m\u001b[33m\"\u001b[39m, \u001b[33m\"\u001b[39m\u001b[33mOther\u001b[39m\u001b[33m\"\u001b[39m]\n\u001b[32m      6\u001b[39m folder_path = \u001b[33m\"\u001b[39m\u001b[33m../data/raw/Test/\u001b[39m\u001b[33m\"\u001b[39m\n",
      "\u001b[36mFile \u001b[39m\u001b[32m~/Documents/Chantharith/I3-S2/Programming for DS/TP/Project/Bank-Transaction-Scanner/venv/lib/python3.12/site-packages/keras/src/saving/saving_api.py:196\u001b[39m, in \u001b[36mload_model\u001b[39m\u001b[34m(filepath, custom_objects, compile, safe_mode)\u001b[39m\n\u001b[32m    189\u001b[39m     \u001b[38;5;28;01mreturn\u001b[39;00m saving_lib.load_model(\n\u001b[32m    190\u001b[39m         filepath,\n\u001b[32m    191\u001b[39m         custom_objects=custom_objects,\n\u001b[32m    192\u001b[39m         \u001b[38;5;28mcompile\u001b[39m=\u001b[38;5;28mcompile\u001b[39m,\n\u001b[32m    193\u001b[39m         safe_mode=safe_mode,\n\u001b[32m    194\u001b[39m     )\n\u001b[32m    195\u001b[39m \u001b[38;5;28;01mif\u001b[39;00m \u001b[38;5;28mstr\u001b[39m(filepath).endswith((\u001b[33m\"\u001b[39m\u001b[33m.h5\u001b[39m\u001b[33m\"\u001b[39m, \u001b[33m\"\u001b[39m\u001b[33m.hdf5\u001b[39m\u001b[33m\"\u001b[39m)):\n\u001b[32m--> \u001b[39m\u001b[32m196\u001b[39m     \u001b[38;5;28;01mreturn\u001b[39;00m \u001b[43mlegacy_h5_format\u001b[49m\u001b[43m.\u001b[49m\u001b[43mload_model_from_hdf5\u001b[49m\u001b[43m(\u001b[49m\n\u001b[32m    197\u001b[39m \u001b[43m        \u001b[49m\u001b[43mfilepath\u001b[49m\u001b[43m,\u001b[49m\u001b[43m \u001b[49m\u001b[43mcustom_objects\u001b[49m\u001b[43m=\u001b[49m\u001b[43mcustom_objects\u001b[49m\u001b[43m,\u001b[49m\u001b[43m \u001b[49m\u001b[38;5;28;43mcompile\u001b[39;49m\u001b[43m=\u001b[49m\u001b[38;5;28;43mcompile\u001b[39;49m\n\u001b[32m    198\u001b[39m \u001b[43m    \u001b[49m\u001b[43m)\u001b[49m\n\u001b[32m    199\u001b[39m \u001b[38;5;28;01melif\u001b[39;00m \u001b[38;5;28mstr\u001b[39m(filepath).endswith(\u001b[33m\"\u001b[39m\u001b[33m.keras\u001b[39m\u001b[33m\"\u001b[39m):\n\u001b[32m    200\u001b[39m     \u001b[38;5;28;01mraise\u001b[39;00m \u001b[38;5;167;01mValueError\u001b[39;00m(\n\u001b[32m    201\u001b[39m         \u001b[33mf\u001b[39m\u001b[33m\"\u001b[39m\u001b[33mFile not found: filepath=\u001b[39m\u001b[38;5;132;01m{\u001b[39;00mfilepath\u001b[38;5;132;01m}\u001b[39;00m\u001b[33m. \u001b[39m\u001b[33m\"\u001b[39m\n\u001b[32m    202\u001b[39m         \u001b[33m\"\u001b[39m\u001b[33mPlease ensure the file is an accessible `.keras` \u001b[39m\u001b[33m\"\u001b[39m\n\u001b[32m    203\u001b[39m         \u001b[33m\"\u001b[39m\u001b[33mzip file.\u001b[39m\u001b[33m\"\u001b[39m\n\u001b[32m    204\u001b[39m     )\n",
      "\u001b[36mFile \u001b[39m\u001b[32m~/Documents/Chantharith/I3-S2/Programming for DS/TP/Project/Bank-Transaction-Scanner/venv/lib/python3.12/site-packages/keras/src/legacy/saving/legacy_h5_format.py:116\u001b[39m, in \u001b[36mload_model_from_hdf5\u001b[39m\u001b[34m(filepath, custom_objects, compile)\u001b[39m\n\u001b[32m    114\u001b[39m opened_new_file = \u001b[38;5;129;01mnot\u001b[39;00m \u001b[38;5;28misinstance\u001b[39m(filepath, h5py.File)\n\u001b[32m    115\u001b[39m \u001b[38;5;28;01mif\u001b[39;00m opened_new_file:\n\u001b[32m--> \u001b[39m\u001b[32m116\u001b[39m     f = \u001b[43mh5py\u001b[49m\u001b[43m.\u001b[49m\u001b[43mFile\u001b[49m\u001b[43m(\u001b[49m\u001b[43mfilepath\u001b[49m\u001b[43m,\u001b[49m\u001b[43m \u001b[49m\u001b[43mmode\u001b[49m\u001b[43m=\u001b[49m\u001b[33;43m\"\u001b[39;49m\u001b[33;43mr\u001b[39;49m\u001b[33;43m\"\u001b[39;49m\u001b[43m)\u001b[49m\n\u001b[32m    117\u001b[39m \u001b[38;5;28;01melse\u001b[39;00m:\n\u001b[32m    118\u001b[39m     f = filepath\n",
      "\u001b[36mFile \u001b[39m\u001b[32m~/Documents/Chantharith/I3-S2/Programming for DS/TP/Project/Bank-Transaction-Scanner/venv/lib/python3.12/site-packages/h5py/_hl/files.py:564\u001b[39m, in \u001b[36mFile.__init__\u001b[39m\u001b[34m(self, name, mode, driver, libver, userblock_size, swmr, rdcc_nslots, rdcc_nbytes, rdcc_w0, track_order, fs_strategy, fs_persist, fs_threshold, fs_page_size, page_buf_size, min_meta_keep, min_raw_keep, locking, alignment_threshold, alignment_interval, meta_block_size, **kwds)\u001b[39m\n\u001b[32m    555\u001b[39m     fapl = make_fapl(driver, libver, rdcc_nslots, rdcc_nbytes, rdcc_w0,\n\u001b[32m    556\u001b[39m                      locking, page_buf_size, min_meta_keep, min_raw_keep,\n\u001b[32m    557\u001b[39m                      alignment_threshold=alignment_threshold,\n\u001b[32m    558\u001b[39m                      alignment_interval=alignment_interval,\n\u001b[32m    559\u001b[39m                      meta_block_size=meta_block_size,\n\u001b[32m    560\u001b[39m                      **kwds)\n\u001b[32m    561\u001b[39m     fcpl = make_fcpl(track_order=track_order, fs_strategy=fs_strategy,\n\u001b[32m    562\u001b[39m                      fs_persist=fs_persist, fs_threshold=fs_threshold,\n\u001b[32m    563\u001b[39m                      fs_page_size=fs_page_size)\n\u001b[32m--> \u001b[39m\u001b[32m564\u001b[39m     fid = \u001b[43mmake_fid\u001b[49m\u001b[43m(\u001b[49m\u001b[43mname\u001b[49m\u001b[43m,\u001b[49m\u001b[43m \u001b[49m\u001b[43mmode\u001b[49m\u001b[43m,\u001b[49m\u001b[43m \u001b[49m\u001b[43muserblock_size\u001b[49m\u001b[43m,\u001b[49m\u001b[43m \u001b[49m\u001b[43mfapl\u001b[49m\u001b[43m,\u001b[49m\u001b[43m \u001b[49m\u001b[43mfcpl\u001b[49m\u001b[43m,\u001b[49m\u001b[43m \u001b[49m\u001b[43mswmr\u001b[49m\u001b[43m=\u001b[49m\u001b[43mswmr\u001b[49m\u001b[43m)\u001b[49m\n\u001b[32m    566\u001b[39m \u001b[38;5;28;01mif\u001b[39;00m \u001b[38;5;28misinstance\u001b[39m(libver, \u001b[38;5;28mtuple\u001b[39m):\n\u001b[32m    567\u001b[39m     \u001b[38;5;28mself\u001b[39m._libver = libver\n",
      "\u001b[36mFile \u001b[39m\u001b[32m~/Documents/Chantharith/I3-S2/Programming for DS/TP/Project/Bank-Transaction-Scanner/venv/lib/python3.12/site-packages/h5py/_hl/files.py:238\u001b[39m, in \u001b[36mmake_fid\u001b[39m\u001b[34m(name, mode, userblock_size, fapl, fcpl, swmr)\u001b[39m\n\u001b[32m    236\u001b[39m     \u001b[38;5;28;01mif\u001b[39;00m swmr \u001b[38;5;129;01mand\u001b[39;00m swmr_support:\n\u001b[32m    237\u001b[39m         flags |= h5f.ACC_SWMR_READ\n\u001b[32m--> \u001b[39m\u001b[32m238\u001b[39m     fid = \u001b[43mh5f\u001b[49m\u001b[43m.\u001b[49m\u001b[43mopen\u001b[49m\u001b[43m(\u001b[49m\u001b[43mname\u001b[49m\u001b[43m,\u001b[49m\u001b[43m \u001b[49m\u001b[43mflags\u001b[49m\u001b[43m,\u001b[49m\u001b[43m \u001b[49m\u001b[43mfapl\u001b[49m\u001b[43m=\u001b[49m\u001b[43mfapl\u001b[49m\u001b[43m)\u001b[49m\n\u001b[32m    239\u001b[39m \u001b[38;5;28;01melif\u001b[39;00m mode == \u001b[33m'\u001b[39m\u001b[33mr+\u001b[39m\u001b[33m'\u001b[39m:\n\u001b[32m    240\u001b[39m     fid = h5f.open(name, h5f.ACC_RDWR, fapl=fapl)\n",
      "\u001b[36mFile \u001b[39m\u001b[32mh5py/_objects.pyx:54\u001b[39m, in \u001b[36mh5py._objects.with_phil.wrapper\u001b[39m\u001b[34m()\u001b[39m\n",
      "\u001b[36mFile \u001b[39m\u001b[32mh5py/_objects.pyx:55\u001b[39m, in \u001b[36mh5py._objects.with_phil.wrapper\u001b[39m\u001b[34m()\u001b[39m\n",
      "\u001b[36mFile \u001b[39m\u001b[32mh5py/h5f.pyx:102\u001b[39m, in \u001b[36mh5py.h5f.open\u001b[39m\u001b[34m()\u001b[39m\n",
      "\u001b[31mFileNotFoundError\u001b[39m: [Errno 2] Unable to synchronously open file (unable to open file: name = '../src/backend/models/bank_classification.h5', errno = 2, error message = 'No such file or directory', flags = 0, o_flags = 0)"
     ]
    }
   ],
   "source": [
    "model_path = \"../src/backend/models/bank_classification.h5\"\n",
    "model = load_model(model_path)\n",
    "\n",
    "CLASS_INDEXES =[\"ABA Bank\", \"ACLIDA Bank\", \"Other\"]\n",
    "\n",
    "folder_path = \"../data/raw/Test/\"\n",
    "\n",
    "image_files = [f for f in os.listdir(folder_path) if f.endswith(('.png', '.jpg', 'jpeg', 'PNG'))]\n",
    "\n",
    "amount = []\n",
    "\n",
    "for i, image_file in enumerate(image_files):\n",
    "    image_path = os.path.join(folder_path, image_file)\n",
    "    classified_image = classify_bank(image_path, model, CLASS_INDEXES)\n",
    "    preprocessed_image = preprocess_image(image_path)\n",
    "    if classified_image == \"ABA Bank\":\n",
    "        extracted_data = extract_data_aba(preprocessed_image)\n",
    "    \n",
    "    plt.figure(figsize=(5, 5))\n",
    "    plt.imshow(preprocessed_image, cmap='gray')\n",
    "    plt.title(f\"Bank: {classified_image}\")\n",
    "    plt.axis('off')\n",
    "    plt.show()\n",
    "    print(f\"Extracted Transaction Data:\\n {json.dumps(extracted_data, indent=2)}\")\n",
    "    "
   ]
  },
  {
   "cell_type": "markdown",
   "id": "fd5a2ffa",
   "metadata": {},
   "source": [
    "# Extract with Khmer and English"
   ]
  },
  {
   "cell_type": "code",
   "execution_count": null,
   "id": "cbad2e31",
   "metadata": {},
   "outputs": [
    {
     "name": "stdout",
     "output_type": "stream",
     "text": [
      "{'Transaction ID': '32995800050', 'Transaction Date': 'Feb 24, 2025 | 9:21AM', 'Amount': None, 'Full Text': 'រួចរាល់\\n-36.00 usp\\n7 SAND BAKERY\\nលេខកូដប្រតិបត្តិការ៖ 32995800050\\nថ្ងៃធ្វើប្រតិបត្តិការ៖ Feb 24, 2025 | 9:21AM\\nទូទាត់ពី: Mobile Savings (604 162 246)\\nលេខយោង ហា. ខាងក្រៅ: fb59063¢\\nធនាគារទទួល: Chip Mong Commercial\\nBank Pie.\\n(៤ (\\nចែករំលែក ទាញយក'}\n"
     ]
    }
   ],
   "source": [
    "import cv2\n",
    "import pytesseract\n",
    "import re\n",
    "from PIL import Image\n",
    "import numpy as np\n",
    "\n",
    "pytesseract.pytesseract.tesseract_cmd = r'/usr/local/bin/tesseract'  # adjust if needed\n",
    "\n",
    "def preprocess_image_for_ocr(image_path):\n",
    "    img = cv2.imread(image_path)\n",
    "    orig = img.copy()\n",
    "\n",
    "    gray = cv2.cvtColor(orig, cv2.COLOR_BGR2GRAY)\n",
    "    gray = cv2.GaussianBlur(gray, (5,5), 0)\n",
    "    edges = cv2.Canny(gray, 30, 150)\n",
    "\n",
    "    contours, _ = cv2.findContours(edges, cv2.RETR_EXTERNAL, cv2.CHAIN_APPROX_SIMPLE)\n",
    "    contours = sorted(contours, key=cv2.contourArea, reverse=True)\n",
    "\n",
    "    for cnt in contours:\n",
    "        x, y, w, h = cv2.boundingRect(cnt)\n",
    "        if w > 300 and h > 100:\n",
    "            roi = orig[y:y+h, x:x+w]\n",
    "            break\n",
    "    else:\n",
    "        roi = orig\n",
    "\n",
    "    zoomed = cv2.resize(roi, None, fx=2, fy=2, interpolation=cv2.INTER_CUBIC)\n",
    "    gray_zoomed = cv2.cvtColor(zoomed, cv2.COLOR_BGR2GRAY)\n",
    "    _, thresh = cv2.threshold(gray_zoomed, 0, 255, cv2.THRESH_BINARY + cv2.THRESH_OTSU)\n",
    "\n",
    "    return Image.fromarray(thresh)\n",
    "\n",
    "def extract_transaction_data(image_path):\n",
    "    image = preprocess_image_for_ocr(image_path)\n",
    "    \n",
    "    # Khmer + English OCR\n",
    "    text = pytesseract.image_to_string(image, lang='khm+eng')\n",
    "    \n",
    "    # Clean up\n",
    "    lines = text.splitlines()\n",
    "    lines = [line.strip() for line in lines if line.strip()]\n",
    "    full_text = \"\\n\".join(lines)\n",
    "\n",
    "    # Extract Trx ID\n",
    "    trx_id = None\n",
    "    for line in lines:\n",
    "        if \"លេខកូដប្រតិបត្តិការ\" in line or \"លេខកូដ\" in line:\n",
    "            match = re.search(r'\\d{6,}', line)\n",
    "            if match:\n",
    "                trx_id = match.group()\n",
    "                break\n",
    "\n",
    "    # Extract Transaction Date\n",
    "    trx_date = None\n",
    "    for line in lines:\n",
    "        if \"ថ្ងៃធ្វើប្រតិបត្តិការ\" in line or \"Transaction date\" in line:\n",
    "            match = re.search(r'(Jan|Feb|Mar|Apr|May|Jun|Jul|Aug|Sep|Oct|Nov|Dec)[a-z]* \\d{2}, \\d{4} \\| \\d{1,2}:\\d{2}(AM|PM)', line)\n",
    "            if match:\n",
    "                trx_date = match.group()\n",
    "                break\n",
    "\n",
    "    # Extract Amount (top line)\n",
    "    amount = None\n",
    "    for line in lines:\n",
    "        if re.search(r'-?\\d{1,3}(,\\d{3})*(\\.\\d{2})?\\s*(KHR|USD)', line):\n",
    "            match = re.search(r'(-?\\d{1,3}(,\\d{3})*(\\.\\d{2})?)\\s*(KHR|USD)', line)\n",
    "            if match:\n",
    "                amount = f\"{match.group(1)} {match.group(4)}\"\n",
    "                break\n",
    "\n",
    "    return {\n",
    "        \"Transaction ID\": trx_id,\n",
    "        \"Transaction Date\": trx_date,\n",
    "        \"Amount\": amount,\n",
    "        \"Full Text\": full_text\n",
    "    }\n",
    "\n",
    "# Example usage:\n",
    "result = extract_transaction_data(\"../data/raw/ABA_transection/photo_2025-03-24 23.35.48.jpeg\")\n",
    "print(result)\n"
   ]
  },
  {
   "cell_type": "code",
   "execution_count": null,
   "id": "8972de33",
   "metadata": {},
   "outputs": [],
   "source": []
  }
 ],
 "metadata": {
  "kernelspec": {
   "display_name": "venv",
   "language": "python",
   "name": "python3"
  },
  "language_info": {
   "codemirror_mode": {
    "name": "ipython",
    "version": 3
   },
   "file_extension": ".py",
   "mimetype": "text/x-python",
   "name": "python",
   "nbconvert_exporter": "python",
   "pygments_lexer": "ipython3",
   "version": "3.12.0"
  }
 },
 "nbformat": 4,
 "nbformat_minor": 5
}
